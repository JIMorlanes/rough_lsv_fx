{
 "cells": [
  {
   "cell_type": "markdown",
   "id": "0",
   "metadata": {},
   "source": [
    "\n",
    "# FX eSSVI — Step-by-step data preparation from article quotes\n",
    "\n",
    "This notebook shows, **from scratch**, how to turn the Medium article's FX quotes (ATM, 25Δ Put/Call, and rd/rf term structures) into the\n",
    "training points needed for an **eSSVI** calibration: **$(T, k, w)$** where $k=\\ln(K/F)$ and $w=\\sigma^2 T$.\n",
    "\n",
    "- Abhyankar, A. (Medium): *FX Volatility Surface Construction using the Vanna–Volga approach with Python*.\n",
    "  https://abhyankar-ameya.medium.com/fx-volatility-surface-construction-using-the-vanna-volga-approach-with-python-a8b8a6764686\n",
    "\n",
    "We will:\n",
    "1. **Load** the article arrays (tenors $T$, vol quotes, domestic/foreign rates, spot).\n",
    "2. Compute **discount factors** and the **correct forward** $F(T)$.\n",
    "3. **Reconstruct strikes** from 25Δ deltas using the **premium-included forward-delta** convention.\n",
    "4. Convert to **log-moneyness** $k$ and **total variance** $w$.\n",
    "5. Run **sanity checks** (calendar monotonicity, strike ordering) and **save** a CSV for calibration."
   ]
  },
  {
   "cell_type": "markdown",
   "id": "1",
   "metadata": {},
   "source": [
    "## 1) Load data"
   ]
  },
  {
   "cell_type": "code",
   "execution_count": null,
   "id": "2",
   "metadata": {},
   "outputs": [],
   "source": [
    "import numpy as np\n",
    "import pandas as pd\n",
    "from math import exp\n",
    "from scipy.stats import norm\n",
    "\n",
    "# Raw arrays copied from the Medium FX Vanna–Volga post\n",
    "T = np.array([0.0194,0.04166,0.0833,0.1666,0.25,0.3333,0.4166,0.5,0.75,1,1.25,1.5,2,3,4,5], dtype=float)\n",
    "\n",
    "Vol_25D_PUT  = np.array([0.121,0.1215,0.1105,0.113,0.1224,0.1236,0.125,0.116,0.1175,0.1322,0.136,0.14,0.1411,0.1433,0.1445,0.145], dtype=float)\n",
    "Vol_ATM      = np.array([0.118,0.1182,0.1015,0.1029,0.115,0.116,0.118,0.105,0.108,0.121,0.124,0.132,0.135,0.1375,0.14,0.141], dtype=float)\n",
    "Vol_25D_CALL = np.array([0.1205,0.12,0.115,0.109,0.1125,0.121,0.119,0.108,0.116,0.1275,0.131,0.133,0.1388,0.14,0.1405,0.139], dtype=float)\n",
    "\n",
    "rd_input = np.array([0.005,0.0052,0.0059,0.006,0.0063,0.0069,0.007,0.0072,0.0075,0.0077,0.008,0.0085,0.009,0.00925,0.0095,0.0098], dtype=float)\n",
    "rf_input = np.array([0.0043,0.004,0.005,0.0055,0.0068,0.0071,0.0066,0.0078,0.0085,0.0083,0.0088,0.0079,0.0082,0.0087,0.0093,0.0095], dtype=float)\n",
    "\n",
    "S0 = 1.5  # spot quoted in the article\n",
    "\n",
    "data = pd.DataFrame({\n",
    "    \"T\": T,\n",
    "    \"Vol_25P\": Vol_25D_PUT,\n",
    "    \"Vol_ATM\": Vol_ATM,\n",
    "    \"Vol_25C\": Vol_25D_CALL,\n",
    "    \"rd\": rd_input,\n",
    "    \"rf\": rf_input,\n",
    "    \"S0\": S0\n",
    "})\n",
    "data.head()\n"
   ]
  },
  {
   "cell_type": "markdown",
   "id": "3",
   "metadata": {},
   "source": [
    "## 2) Discount factors and correct forwards\n",
    "\n",
    "For FX forwards we use:\n",
    "- **Discount factors**: $F(T)=S_0 \\dfrac{P_d(0,T)}{P_f(0,T)}$ with $P_{\\{d,f\\}}(0,T)=e^{-r_{\\{d,f\\}}T}$."
   ]
  },
  {
   "cell_type": "code",
   "execution_count": null,
   "id": "4",
   "metadata": {},
   "outputs": [],
   "source": [
    "# Discount factors\n",
    "Pd = np.exp(-data[\"rd\"].values * data[\"T\"].values)\n",
    "Pf = np.exp(-data[\"rf\"].values * data[\"T\"].values)\n",
    "\n",
    "# Forwards via discount factors\n",
    "F_df    = S0 * (Pd / Pf)\n",
    "\n",
    "# Assemble a small table\n",
    "forwards = pd.DataFrame({\n",
    "    \"T\": data[\"T\"],\n",
    "    \"Pd\": Pd,\n",
    "    \"Pf\": Pf,\n",
    "    \"F_via_df\": F_df,\n",
    "})\n",
    "forwards.head(10)\n"
   ]
  },
  {
   "cell_type": "markdown",
   "id": "5",
   "metadata": {},
   "source": [
    "## 3) Reconstruct strikes from 25Δ quotes (premium-included forward delta)\n",
    "\n",
    "Premium-included (PI) forward delta scales by $e^{r_f T}$:\n",
    "$$\\Delta_C^{F,PI}=e^{r_f T}N(d_1),\\quad \\Delta_P^{F,PI}=e^{r_f T}(N(d_1)-1),\n",
    "\\quad d_1=\\frac{\\ln(F/K)+\\tfrac12\\sigma^2T}{\\sigma\\sqrt{T}}.$$\n",
    "\n",
    "Invert to get $K$ from a given $\\delta$ and $\\sigma$:\n",
    "$$K_C=F\\exp\\!\\big(-\\sigma\\sqrt{T}N^{-1}(\\delta e^{r_f T})+\\tfrac12\\sigma^2T\\big),\\quad\n",
    "K_P=F\\exp\\!\\big(-\\sigma\\sqrt{T}N^{-1}(1-\\delta e^{r_f T})+\\tfrac12\\sigma^2T\\big).$$\n",
    "\n",
    "ATM (delta-neutral straddle) uses\n",
    "$$K_{\\text{ATM}}=F\\,\\exp\\!\\big(\\tfrac12\\sigma_{\\text{ATM}}^2T\\big).$$\n"
   ]
  },
  {
   "cell_type": "code",
   "execution_count": null,
   "id": "6",
   "metadata": {},
   "outputs": [],
   "source": [
    "from scipy.stats import norm\n",
    "import numpy as np\n",
    "import pandas as pd\n",
    "\n",
    "# Choose the forward (they match): use F_df\n",
    "F = F_df\n",
    "T_arr = data[\"T\"].values\n",
    "rf = data[\"rf\"].values\n",
    "\n",
    "sigma_ATM = data[\"Vol_ATM\"].values\n",
    "sigma_25P = data[\"Vol_25P\"].values\n",
    "sigma_25C = data[\"Vol_25C\"].values\n",
    "\n",
    "delta = 0.25\n",
    "scale = np.exp(rf * T_arr)  # e^{r_f T}\n",
    "\n",
    "def K_call_from_delta(F, T, sigma, delta, scale):\n",
    "    z = norm.ppf(delta * scale)\n",
    "    return F * np.exp(-sigma*np.sqrt(T)*z + 0.5*(sigma**2)*T)\n",
    "\n",
    "def K_put_from_delta(F, T, sigma, delta, scale):\n",
    "    z = norm.ppf(1.0 - delta * scale)\n",
    "    return F * np.exp(-sigma*np.sqrt(T)*z + 0.5*(sigma**2)*T)\n",
    "\n",
    "#K_ATM = F * np.exp(0.5 * (sigma_ATM**2) * T_arr)    # ATM-DN (Delta-neutral) convention\n",
    "K_ATM = F # ATMF convention (at-the-money-forward)\n",
    "K_25C = K_call_from_delta(F, T_arr, sigma_25C, delta, scale)\n",
    "K_25P = K_put_from_delta(F, T_arr, sigma_25P, delta, scale)\n",
    "\n",
    "pd.DataFrame({\n",
    "    \"T\": T_arr, \"F\": F, \"K_25P\": K_25P, \"K_ATM\": K_ATM, \"K_25C\": K_25C\n",
    "}).head(10)\n"
   ]
  },
  {
   "cell_type": "markdown",
   "id": "7",
   "metadata": {},
   "source": [
    "## 4) Check for calendar monotonicity of ATM total variance\n",
    "We verify that the ATM total variance $\\theta(T) = \\sigma_{\\text{ATM}}^2 T$ is **non-decreasing** with maturity."
   ]
  },
  {
   "cell_type": "code",
   "execution_count": null,
   "id": "8",
   "metadata": {},
   "outputs": [],
   "source": [
    "# Calendar monotonicity of ATM total variance\n",
    "theta = (data[\"Vol_ATM\"]**2) * data[\"T\"]\n",
    "theta_diff = np.diff(theta)\n",
    "monotone_flags = theta_diff >= -1e-8  # element-wise check\n",
    "print(\"theta (ATM total variance):\\n\", theta.round(6).to_list())\n",
    "print(\"\\ndiff(theta):\\n\", theta_diff.round(6).tolist())\n",
    "print(\"\\nIs non-decreasing step-by-step?\\n\", monotone_flags.tolist())\n",
    "print(\"\\nOverall monotone:\", np.all(monotone_flags))"
   ]
  }
 ],
 "metadata": {
  "kernelspec": {
   "display_name": "computational_finance",
   "language": "python",
   "name": "python3"
  },
  "language_info": {
   "codemirror_mode": {
    "name": "ipython",
    "version": 3
   },
   "file_extension": ".py",
   "mimetype": "text/x-python",
   "name": "python",
   "nbconvert_exporter": "python",
   "pygments_lexer": "ipython3",
   "version": "3.13.5"
  }
 },
 "nbformat": 4,
 "nbformat_minor": 5
}
