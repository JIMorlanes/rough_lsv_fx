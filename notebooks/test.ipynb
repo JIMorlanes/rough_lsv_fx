{
 "cells": [
  {
   "cell_type": "code",
   "execution_count": null,
   "metadata": {},
   "outputs": [],
   "source": [
    "# Ensure Python sees the project root for module imports\n",
    "import os, sys\n",
    "repo_root = os.path.abspath(os.path.join(os.getcwd(), \"..\"))\n",
    "if repo_root not in sys.path:\n",
    "    sys.path.insert(0, repo_root)"
   ]
  },
  {
   "cell_type": "code",
   "execution_count": null,
   "metadata": {},
   "outputs": [],
   "source": [
    "from models.rough_heston_volterra import RoughHestonVolterra\n",
    "import numpy as np\n",
    "import matplotlib.pyplot as plt\n",
    "\n",
    "m = RoughHestonVolterra(\n",
    "    v0=0.04, kappa=1.5, theta=0.05, xi=0.3, H=0.1,\n",
    "    T=1.0, n_steps=200, n_paths=1500, seed=42, reflect=True \n",
    ")\n",
    "\n",
    "res = m.generate_paths()\n",
    "v = res[\"v\"]; t = res[\"time\"]\n",
    "m.plot_kernel()\n",
    "m.plot_midpoint_weights()\n",
    "m.plot_cell_weights()\n",
    "m.plot_kernel_loglog()\n",
    "m.plot_paths(n_paths_to_show=10, res=res)\n",
    "\n"
   ]
  },
  {
   "cell_type": "code",
   "execution_count": null,
   "metadata": {},
   "outputs": [],
   "source": [
    "import numpy as np\n",
    "v = np.zeros((m.n_paths, m.n_steps+1)); v[:,0] = m.v0\n",
    "dW = m._draw_increments()\n",
    "\n",
    "for i in range(1, 4):  # first 3 steps\n",
    "    vi = v[:, :i]\n",
    "    wdti = m.w_dt[:i][::-1]\n",
    "    wdWi = m.w_dW[:i][::-1]\n",
    "    phi = m.kappa * (m.theta - vi)\n",
    "    det = phi @ wdti\n",
    "    psi_dW = m.xi * np.sqrt(np.clip(vi, 1e-12, None)) * dW[:, :i]\n",
    "    sto = psi_dW @ wdWi\n",
    "    v[:, i] = m.v0 + det + sto\n",
    "    v[:, i] = np.abs(v[:, i]) if m.reflect else np.maximum(v[:, i], m.eps_floor)\n",
    "    print(f\"i={i}  det(mean)={det.mean():.4e}  sto(mean)={sto.mean():.4e}  v(mean)={v[:, i].mean():.4e}\")\n"
   ]
  },
  {
   "cell_type": "code",
   "execution_count": null,
   "metadata": {},
   "outputs": [],
   "source": [
    "print(m.reflect, m.eps_floor, m.xi, m.n_steps)\n"
   ]
  },
  {
   "cell_type": "code",
   "execution_count": null,
   "metadata": {},
   "outputs": [],
   "source": [
    "v = res[\"v\"]; t = res[\"time\"]\n",
    "for i in range(6):\n",
    "    col = v[:, i]\n",
    "    print(f\"t={t[i]:.4f}  min={col.min():.3e}  med={np.median(col):.3e}  max={col.max():.3e}\")\n"
   ]
  },
  {
   "cell_type": "code",
   "execution_count": null,
   "metadata": {},
   "outputs": [],
   "source": [
    "v = res[\"v\"]; t = res[\"time\"]\n",
    "mean_emp = v.mean(axis=0)\n",
    "mean_theo = m.theta + (m.v0 - m.theta) * np.exp(-m.kappa * t)\n",
    "print(np.max(np.abs(mean_emp - mean_theo)))  # should be small (order of 1e-3 to 1e-2 depending on xi, steps)\n"
   ]
  },
  {
   "cell_type": "code",
   "execution_count": null,
   "metadata": {},
   "outputs": [],
   "source": []
  },
  {
   "cell_type": "code",
   "execution_count": null,
   "metadata": {},
   "outputs": [],
   "source": []
  }
 ],
 "metadata": {
  "kernelspec": {
   "display_name": "computational_finance",
   "language": "python",
   "name": "python3"
  },
  "language_info": {
   "codemirror_mode": {
    "name": "ipython",
    "version": 3
   },
   "file_extension": ".py",
   "mimetype": "text/x-python",
   "name": "python",
   "nbconvert_exporter": "python",
   "pygments_lexer": "ipython3",
   "version": "3.13.5"
  }
 },
 "nbformat": 4,
 "nbformat_minor": 2
}
