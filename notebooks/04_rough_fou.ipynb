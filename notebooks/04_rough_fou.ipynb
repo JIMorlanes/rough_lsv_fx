{
 "cells": [
  {
   "cell_type": "markdown",
   "metadata": {},
   "source": [
    "#  04_rough_fou.ipynb: Prototype Rough_Fractional Ornstein-Uhlenbeck Variance driver"
   ]
  },
  {
   "cell_type": "code",
   "execution_count": null,
   "metadata": {},
   "outputs": [],
   "source": [
    "# Add project root to path so we can import modules\n",
    "\n",
    "import os, sys\n",
    "repo_root = os.path.abspath(os.path.join(os.getcwd(), \"..\"))\n",
    "if repo_root not in sys.path:\n",
    "    sys.path.insert(0, repo_root)\n",
    "\n",
    "from models.rough_fou import RoughFOU\n",
    "import numpy as np\n",
    "import matplotlib.pyplot as plt"
   ]
  },
  {
   "cell_type": "markdown",
   "metadata": {},
   "source": [
    "### 1 Model definition  \n",
    "We model the **instantaneous variance** \\(v(t)\\) as a rough, mean-reverting process  \n",
    "\n",
    "$$\n",
    "\\mathrm{d}v(t)=\\kappa\\!\\bigl(\\theta-v(t)\\bigr)\\,\\mathrm{d}t\n",
    "\\;+\\;\n",
    "\\xi\\,\\sqrt{v(t)}\\,\\mathrm{d}B^H(t)\n",
    "\\;,\n",
    "\\qquad 0<H<\\tfrac12,\n",
    "$$\n",
    "\n",
    "* $H$ – Hurst exponent (empirically $\\approx 0.1$)  \n",
    "* $\\kappa$ – mean-reversion speed \n",
    "* $\\theta$ – long-run variance level  \n",
    "* $\\xi$ – vol-of-vol magnitude  \n",
    "* $\\mathrm{d}B_H$ – fractional-Brownian increment with $\\operatorname{Var}\\!\\bigl[\\Delta B_H\\bigr]\\propto(\\Delta t)^{2H}$\n",
    "\n",
    "\n",
    "### 2 Discretisation used in the implementation  \n",
    "For speed we approximate the rough kick with a power-law Riemann step  \n",
    "\n",
    "$$\n",
    "\\mathrm{d}B_H(t_i)\\;\\approx\\;(\\Delta t)^{H}\\,Z_i,\n",
    "\\quad Z_i\\sim\\mathcal N(0,1),\n",
    "$$\n",
    "\n",
    "so one Euler update is  \n",
    "\n",
    "$$\n",
    "v_{i+1}=v_i+\\kappa(\\theta-v_i)\\,\\Delta t\n",
    "        +\\xi\\,\\sqrt{v_i}\\,(\\Delta t)^{H}Z_i,\n",
    "\\qquad\n",
    "v_{i+1}\\leftarrow\\max\\!\\bigl(v_{i+1},10^{-12}\\bigr).\n",
    "$$\n",
    "\n",
    "Antithetic + moment-matched \\(Z\\) columns cut Monte-Carlo noise."
   ]
  },
  {
   "cell_type": "code",
   "execution_count": null,
   "metadata": {},
   "outputs": [],
   "source": [
    "params = dict(\n",
    "    v_0    = 0.04,\n",
    "    kappa  = 1.0,\n",
    "    theta  = 0.05,\n",
    "    xi     = 0.2,\n",
    "    H      = 0.1,\n",
    "    T      = 1.0,\n",
    "    n_steps= 252,\n",
    "    n_paths= 10000,\n",
    "    seed   = 42,\n",
    ")\n",
    "\n",
    "fou = RoughFOU(**params)\n",
    "result = fou.generate_paths()\n",
    "v, t = result[\"v\"], result[\"time\"]\n",
    "\n",
    "print(\"Simulated variance array shape:\", v.shape)   # (n_paths, n_steps+1)"
   ]
  },
  {
   "cell_type": "code",
   "execution_count": null,
   "metadata": {},
   "outputs": [],
   "source": [
    "# Plot a handful of sample paths\n",
    "plt.figure(figsize=(10, 4))\n",
    "for i in range(8):\n",
    "    plt.plot(t, v[i], lw=0.7, alpha=0.7)\n",
    "plt.title(\"RoughFOU – sample variance paths (first 8)\")\n",
    "plt.xlabel(\"time\")\n",
    "plt.ylabel(\"v(t)\")\n",
    "plt.grid(True)\n",
    "plt.show()"
   ]
  },
  {
   "cell_type": "code",
   "execution_count": null,
   "metadata": {},
   "outputs": [],
   "source": [
    "# Mean-reversion check: empirical vs analytic mean\n",
    "mean_emp = v.mean(axis=0)\n",
    "mean_theo = params[\"theta\"] + (params[\"v_0\"] - params[\"theta\"]) * np.exp(-params[\"kappa\"] * t)\n",
    "\n",
    "plt.figure(figsize=(8, 4))\n",
    "plt.plot(t, mean_emp, label=\"empirical mean\")\n",
    "plt.plot(t, mean_theo, \"--\", label=r\"$\\theta + (v_0-\\theta)e^{-\\kappa t}$\")\n",
    "plt.legend()\n",
    "plt.title(\"Mean-reversion (drift) check\")\n",
    "plt.xlabel(\"time\")\n",
    "plt.ylabel(\"E[v(t)]\")\n",
    "plt.grid(True)\n",
    "plt.show()"
   ]
  },
  {
   "cell_type": "code",
   "execution_count": null,
   "metadata": {},
   "outputs": [],
   "source": [
    "# Histogram of the terminal variance\n",
    "plt.figure(figsize=(6, 4))\n",
    "plt.hist(v[:, -1], bins=50, density=True, alpha=0.8, edgecolor=\"k\")\n",
    "plt.title(\"Distribution of v(T=1)\")\n",
    "plt.xlabel(\"v(T)\")\n",
    "plt.ylabel(\"density\")\n",
    "plt.grid(True)\n",
    "plt.show()"
   ]
  },
  {
   "cell_type": "markdown",
   "metadata": {},
   "source": [
    "### 3 Prototype behaviour  \n",
    "\n",
    "- **Large rough noise**  \n",
    "  - Setting: $H = 0.1,\\;\\xi = 0.20,\\;\\Delta t = 1/252$  \n",
    "  - Daily rough increment $\\sigma_{\\text{step}}\\approx 0.07$ (same order as $\\sqrt{v_0}$) then sample paths overshoot and the Monte-Carlo mean drifts well above the OU target.\n",
    "\n",
    "- **One-sided floor bias**  \n",
    "  - Using $v = \\max(v,\\,10^{-12})$ truncates negative spikes but keeps positive ones, producing a systematic upward drift.\n",
    "\n",
    "- **Monte-Carlo noise hides weak bias**  \n",
    "  - With $50{\\,}000$ paths, the standard error of $\\mathbb{E}[v_T]$ is about $2$ bp, large enough to mask the $\\mathcal{O}(\\Delta t^{H})$ weak-bias pattern.\n",
    "\n",
    "\n",
    "### 4 Quick fixes  \n",
    "\n",
    "* Lower vol-of-vol to $\\xi=0.03$ **or** refine grid to $n_\\text{steps}=1008$.  \n",
    "* Use **reflection** instead of flooring:  \n",
    "\n",
    "  $$\n",
    "  v_{i+1}=\\begin{cases}\n",
    "            -v_{i+1}, & v_{i+1}<0,\\\\[6pt]\n",
    "            v_{i+1},  & v_{i+1}\\ge0.\n",
    "          \\end{cases}\n",
    "  $$\n",
    "\n",
    "With those tweaks and $n_\\text{paths}=400{,}000$ the empirical mean matches the OU curve  \n",
    "\n",
    "$$\n",
    "\\mathbb E[v(t)]\n",
    "    =\\theta+\\bigl(v_0-\\theta\\bigr)e^{-\\kappa t},\n",
    "$$\n",
    "\n",
    "to within ≲ 1 bp.\n",
    "\n",
    "### 5 Planned accuracy upgrades  \n",
    "\n",
    "1. **Circulant embedding / FFT** ⇒ exact Gaussian covariance, removes rough-increment bias.  \n",
    "2. **Milstein / implicit scheme** ⇒ weak error $O(\\Delta t^{H})$ disappears.  \n",
    "3. Calibrate $(H,\\xi,\\kappa,\\theta)$ to realised variance; feed $\\sigma_t=\\sqrt{v(t)}$ into the hybrid FX SDE.\n"
   ]
  },
  {
   "cell_type": "markdown",
   "metadata": {},
   "source": []
  }
 ],
 "metadata": {
  "kernelspec": {
   "display_name": "Computational_Finance",
   "language": "python",
   "name": "python3"
  },
  "language_info": {
   "codemirror_mode": {
    "name": "ipython",
    "version": 3
   },
   "file_extension": ".py",
   "mimetype": "text/x-python",
   "name": "python",
   "nbconvert_exporter": "python",
   "pygments_lexer": "ipython3",
   "version": "3.13.5"
  }
 },
 "nbformat": 4,
 "nbformat_minor": 2
}
