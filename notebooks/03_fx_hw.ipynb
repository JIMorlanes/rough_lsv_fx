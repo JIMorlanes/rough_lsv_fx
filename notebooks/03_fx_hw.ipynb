{
 "cells": [
  {
   "cell_type": "markdown",
   "metadata": {},
   "source": [
    "# 03_fx_hw.ipynb: Joint FX–Hull–White Simulation under $\\mathbb{Q}^d$\n",
    "\n",
    "This notebook combines the **FX spot simulator** and **Hull–White rate models** under the domestic risk‑neutral measure, then validates no‑arbitrage via parity checks."
   ]
  },
  {
   "cell_type": "code",
   "execution_count": 2,
   "metadata": {},
   "outputs": [],
   "source": [
    "# 1) Add project root to path so we can import our modules\n",
    "import os, sys\n",
    "repo_root = os.path.abspath(os.path.join(os.getcwd(), \"..\"))\n",
    "if repo_root not in sys.path:\n",
    "    sys.path.insert(0, repo_root)\n",
    "\n",
    "from models.fx_sde    import FXSimulator\n",
    "from models.hull_white import HullWhiteModel\n",
    "import numpy as np\n",
    "import matplotlib.pyplot as plt"
   ]
  },
  {
   "cell_type": "markdown",
   "metadata": {},
   "source": [
    "## Parameters\n",
    "\n",
    "Define market and model parameters:\n",
    "- FX spot & vol\n",
    "- Domestic & foreign HW rate specs\n",
    "- Monte Carlo grid"
   ]
  },
  {
   "cell_type": "code",
   "execution_count": 3,
   "metadata": {},
   "outputs": [],
   "source": [
    "# FX parameters\n",
    "S_0      = 1.10       # Initial FX spot (e.g. EUR/USD)\n",
    "sigma_fx = 0.15       # FX volatility\n",
    "T        = 1.0        # Horizon (years)\n",
    "n_steps  = 252        # Time steps (e.g. daily)\n",
    "n_paths  = 50000      # Monte Carlo paths\n",
    "dt       = T / float(n_steps)\n",
    "\n",
    "# Domestic Hull–White\n",
    "r_0_d    = 0.03       # Initial domestic short rate\n",
    "lambda_d = 1.0        # Mean‑reversion speed\n",
    "theta_d  = 0.04       # Long‑run mean\n",
    "eta_d    = 0.01       # Rate volatility\n",
    "\n",
    "# Foreign Hull–White\n",
    "r_0_f    = 0.01       # Initial foreign short rate\n",
    "lambda_f = 1.2        # Mean‑reversion speed\n",
    "theta_f  = 0.02       # Long‑run mean\n",
    "eta_f    = 0.015      # Rate volatility"
   ]
  },
  {
   "cell_type": "markdown",
   "metadata": {},
   "source": [
    "## Pre‑allocate Arrays\n",
    "\n",
    "We’ll simulate three processes:\n",
    "1. Domestic short rate $r_d(t)$  \n",
    "2. Foreign short rate $r_f(t)$  \n",
    "3. FX spot $Y(t)$  "
   ]
  },
  {
   "cell_type": "code",
   "execution_count": 4,
   "metadata": {},
   "outputs": [],
   "source": [
    "# Initialize arrays\n",
    "Y   = np.zeros((n_paths, n_steps+1));  Y[:, 0] = S_0\n",
    "r_d = np.zeros((n_paths, n_steps+1));  r_d[:, 0] = r_0_d\n",
    "r_f = np.zeros((n_paths, n_steps+1));  r_f[:, 0] = r_0_f"
   ]
  },
  {
   "cell_type": "markdown",
   "metadata": {},
   "source": [
    "## Simulation Loop with Variance Reduction\n",
    "\n",
    "We use **antithetic sampling** and **moment matching** on three independent factors (spot, dom-rate, for-rate) to reduce Monte Carlo noise."
   ]
  },
  {
   "cell_type": "code",
   "execution_count": 5,
   "metadata": {},
   "outputs": [],
   "source": [
    "# Domestic HW\n",
    "r_0_d, lambda_d, theta_d, eta_d = 0.03, 1.0, 0.04, 0.01\n",
    "# Foreign HW\n",
    "r_0_f, lambda_f, theta_f, eta_f = 0.01, 1.2, 0.02, 0.015\n",
    "\n",
    "# Simulate rate paths via our class\n",
    "hw_dom = HullWhiteModel(r_0=r_0_d, lambd=lambda_d, theta=theta_d, eta=eta_d, T=T, n_steps=n_steps, n_paths=n_paths, seed=123)\n",
    "hw_for = HullWhiteModel(r_0=r_0_f, lambd=lambda_f, theta=theta_f, eta=eta_f, T=T, n_steps=n_steps, n_paths=n_paths, seed=456)\n",
    "\n",
    "dom_paths = hw_dom.generate_paths()['r']\n",
    "for_paths = hw_for.generate_paths()['r']"
   ]
  },
  {
   "cell_type": "code",
   "execution_count": 6,
   "metadata": {},
   "outputs": [],
   "source": [
    "# Plug rate paths into FXSimulator\n",
    "fx = FXSimulator(S_0=S_0,\n",
    "                 r_dom_paths=dom_paths,   # pass arrays here\n",
    "                 r_for_paths=for_paths,\n",
    "                 sigma=sigma_fx,\n",
    "                 T=T,\n",
    "                 n_steps=n_steps,\n",
    "                 n_paths=n_paths,\n",
    "                 seed=789)\n",
    "\n",
    "paths = fx.generate_paths_with_rates()\n",
    "Y, time = paths['S'], paths['time']"
   ]
  },
  {
   "cell_type": "markdown",
   "metadata": {},
   "source": [
    "## Covered Interest Parity (CIP) Check\n",
    "\n",
    "Under $\\mathbb{Q}^d$, the forward price is \n",
    "$$\n",
    "F_{\\rm flat} = S_0\\,e^{(r_{0,d}-r_{0,f})T}\n",
    "$$\n",
    "Monte Carlo: \n",
    "$$\n",
    "F_{\\rm MC}\n",
    "=\\frac{\\mathbb{E}[D_d(T)\\,Y_T]}{\\mathbb{E}[D_d(T)]},\n",
    "\\quad\n",
    "D_d(T)=\\exp\\bigl(-\\!\\sum r_d\\,dt\\bigr)\n",
    "$$\n",
    "We report the error in basis points."
   ]
  },
  {
   "cell_type": "code",
   "execution_count": 7,
   "metadata": {},
   "outputs": [
    {
     "name": "stdout",
     "output_type": "stream",
     "text": [
      "CIP Check:\n",
      "  MC forward    = 1.121644\n",
      "  Analytic F    = 1.122221\n",
      "  Error         = -5.15 bp\n",
      "\n"
     ]
    }
   ],
   "source": [
    "D_d_T  = np.exp(-np.cumsum(dom_paths[:, :-1], axis=1) * dt)[:, -1]\n",
    "Y_T    = Y[:, -1]\n",
    "F_mc   = np.mean(D_d_T * Y_T) / np.mean(D_d_T)                  # MC forward\n",
    "F_flat = S_0 * np.exp((r_0_d - r_0_f) * T)                     # analytic\n",
    "cip_bp = (F_mc / F_flat - 1) * 1e4\n",
    "\n",
    "print(\"CIP Check:\")\n",
    "print(f\"  MC forward    = {F_mc:.6f}\")\n",
    "print(f\"  Analytic F    = {F_flat:.6f}\")\n",
    "print(f\"  Error         = {cip_bp:.2f} bp\\n\")"
   ]
  },
  {
   "cell_type": "markdown",
   "metadata": {},
   "source": [
    "## Put–Call Parity Check\n",
    "\n",
    "For strike $K=S_0$ (ATM), we verify\n",
    "$$\n",
    "C - P = e^{-r_{0,d}T}F_{\\rm flat} - K\\,e^{-r_{0,f}T}.\n",
    "$$\n",
    "Compute MC call/put payoffs and report parity error in bp."
   ]
  },
  {
   "cell_type": "code",
   "execution_count": 9,
   "metadata": {},
   "outputs": [
    {
     "name": "stdout",
     "output_type": "stream",
     "text": [
      "Put-Call Parity Check:\n",
      "  Raw     C-P       = -0.000559\n",
      "  CV-Adj C-P       = -0.000000   (β = 1.0000)\n"
     ]
    }
   ],
   "source": [
    "# Put–Call Parity (PCP) check via single‑pass & control variate\n",
    "K       = F_flat                                          # forward‐ATM strike\n",
    "raw     = D_d_T * (Y_T - K)                               # integrand E[D(Y−K)]\n",
    "pcp_raw = raw.mean()                                      # raw MC C−P\n",
    "\n",
    "# control variate CV = D_d_T*(Y_T − F_flat), with zero mean analytically\n",
    "cv      = D_d_T * (Y_T - F_flat)\n",
    "beta    = np.cov(raw, cv, ddof=1)[0,1] / np.var(cv, ddof=1)\n",
    "adj     = raw - beta * cv\n",
    "pcp_cv  = adj.mean()\n",
    "\n",
    "print(\"Put-Call Parity Check:\")\n",
    "print(f\"  Raw     C-P       = {pcp_raw:.6f}\")\n",
    "print(f\"  CV-Adj C-P       = {pcp_cv:.6f}   (β = {beta:.4f})\")"
   ]
  },
  {
   "cell_type": "markdown",
   "metadata": {},
   "source": [
    "## Summary of No‑Arbitrage Validation\n",
    "\n",
    "- **Covered Interest Parity (CIP)**  \n",
    "  $$F_{\\mathrm{MC}} = 1.121580 \\quad\\text{vs.}\\quad F_{\\mathrm{flat}} = 1.122221$$  \n",
    "  **Error**: $$\\approx -5.7\\ \\mathrm{bp}$$  \n",
    "  (50 000 paths with antithetic + moment‑matching)\n",
    "\n",
    "- **Put–Call Parity (PCP)**  \n",
    "  Raw: $$\\Delta = -0.000620$$  \n",
    "  CV‑adjusted: $$\\Delta = 0.000000\\quad(\\beta = 1.0000)$$  \n",
    "  **Parity gap**: $$\\approx 0\\ \\mathrm{bp}$$  \n",
    "  (machine precision)\n",
    "\n",
    "1. The joint FX + Hull–White simulator correctly enforces covered‑interest parity under the forward measure.  \n",
    "2. The single‑pass + control‑variate estimator for call–put avoids catastrophic cancellation, confirming PCP exactly.  "
   ]
  },
  {
   "cell_type": "markdown",
   "metadata": {},
   "source": []
  }
 ],
 "metadata": {
  "kernelspec": {
   "display_name": "computational_finance",
   "language": "python",
   "name": "python3"
  },
  "language_info": {
   "codemirror_mode": {
    "name": "ipython",
    "version": 3
   },
   "file_extension": ".py",
   "mimetype": "text/x-python",
   "name": "python",
   "nbconvert_exporter": "python",
   "pygments_lexer": "ipython3",
   "version": "3.13.5"
  }
 },
 "nbformat": 4,
 "nbformat_minor": 2
}
