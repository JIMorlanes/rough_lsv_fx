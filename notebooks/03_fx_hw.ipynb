{
 "cells": [
  {
   "cell_type": "code",
   "execution_count": 1,
   "metadata": {},
   "outputs": [],
   "source": [
    "# Ensure Python sees the project root for module imports\n",
    "import os, sys\n",
    "repo_root = os.path.abspath(os.path.join(os.getcwd(), \"..\"))\n",
    "if repo_root not in sys.path:\n",
    "    sys.path.insert(0, repo_root)"
   ]
  },
  {
   "cell_type": "code",
   "execution_count": 18,
   "metadata": {},
   "outputs": [],
   "source": [
    "import numpy as np\n",
    "import matplotlib.pyplot as plt\n",
    "from models.hull_white import HullWhiteModel\n",
    "from models.fx_sde import FXSimulator\n"
   ]
  },
  {
   "cell_type": "code",
   "execution_count": 19,
   "metadata": {},
   "outputs": [],
   "source": [
    "# FX model parameters\n",
    "S_0 = 1.10\n",
    "sigma_fx = 0.15\n",
    "T = 1.0\n",
    "n_steps = 252\n",
    "n_paths = 50"
   ]
  },
  {
   "cell_type": "code",
   "execution_count": 20,
   "metadata": {},
   "outputs": [
    {
     "ename": "AttributeError",
     "evalue": "'HullWhiteModel' object has no attribute 'time'",
     "output_type": "error",
     "traceback": [
      "\u001b[31m---------------------------------------------------------------------------\u001b[39m",
      "\u001b[31mAttributeError\u001b[39m                            Traceback (most recent call last)",
      "\u001b[36mCell\u001b[39m\u001b[36m \u001b[39m\u001b[32mIn[20]\u001b[39m\u001b[32m, line 7\u001b[39m\n\u001b[32m      5\u001b[39m hw_for = HullWhiteModel(r_0 = \u001b[32m0.01\u001b[39m, **hw_parameters)\n\u001b[32m      6\u001b[39m \u001b[38;5;66;03m# Simulate paths \u001b[39;00m\n\u001b[32m----> \u001b[39m\u001b[32m7\u001b[39m \u001b[43mhw_dom\u001b[49m\u001b[43m.\u001b[49m\u001b[43mgenerate_paths\u001b[49m\u001b[43m(\u001b[49m\u001b[43m)\u001b[49m\n",
      "\u001b[36mFile \u001b[39m\u001b[32m~/Documents/GitHub/rough_lsv_fx/models/hull_white.py:67\u001b[39m, in \u001b[36mHullWhiteModel.generate_paths\u001b[39m\u001b[34m(self)\u001b[39m\n\u001b[32m     64\u001b[39m     r[:,i+\u001b[32m1\u001b[39m] = r[:,i] + \u001b[38;5;28mself\u001b[39m.lambd*(\u001b[38;5;28mself\u001b[39m.theta - r[:,i]) * \u001b[38;5;28mself\u001b[39m.dt + \u001b[38;5;28mself\u001b[39m.eta* (W[:,i+\u001b[32m1\u001b[39m]-W[:,i])\n\u001b[32m     65\u001b[39m     time[i+\u001b[32m1\u001b[39m] = time[i] + \u001b[38;5;28mself\u001b[39m.dt\n\u001b[32m---> \u001b[39m\u001b[32m67\u001b[39m \u001b[38;5;28mself\u001b[39m.paths = {\u001b[33m'\u001b[39m\u001b[33mtime\u001b[39m\u001b[33m'\u001b[39m: \u001b[38;5;28;43mself\u001b[39;49m\u001b[43m.\u001b[49m\u001b[43mtime\u001b[49m, \u001b[33m'\u001b[39m\u001b[33mr\u001b[39m\u001b[33m'\u001b[39m: r}\n\u001b[32m     68\u001b[39m \u001b[38;5;28;01mreturn\u001b[39;00m \u001b[38;5;28mself\u001b[39m.paths\n",
      "\u001b[31mAttributeError\u001b[39m: 'HullWhiteModel' object has no attribute 'time'"
     ]
    }
   ],
   "source": [
    "# Hull-White parameters for domestic and foreign rates\n",
    "hw_parameters = dict(lambd = 1.0, theta=0.04, eta=0.01, T=T, n_steps=n_steps, n_paths=n_paths, seed=123)    # used dict constructor\n",
    "# Genetare objectes\n",
    "hw_dom = HullWhiteModel(r_0 = 0.03, **hw_parameters)\n",
    "hw_for = HullWhiteModel(r_0 = 0.01, **hw_parameters)\n",
    "# Simulate paths \n",
    "hw_dom.generate_paths()"
   ]
  },
  {
   "cell_type": "code",
   "execution_count": null,
   "metadata": {},
   "outputs": [],
   "source": []
  }
 ],
 "metadata": {
  "kernelspec": {
   "display_name": "computational_finance",
   "language": "python",
   "name": "python3"
  },
  "language_info": {
   "codemirror_mode": {
    "name": "ipython",
    "version": 3
   },
   "file_extension": ".py",
   "mimetype": "text/x-python",
   "name": "python",
   "nbconvert_exporter": "python",
   "pygments_lexer": "ipython3",
   "version": "3.13.5"
  }
 },
 "nbformat": 4,
 "nbformat_minor": 2
}
