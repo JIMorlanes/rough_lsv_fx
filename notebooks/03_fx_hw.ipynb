{
 "cells": [
  {
   "cell_type": "markdown",
   "metadata": {},
   "source": [
    "# 03_fx_hw.ipynb: Joint FX–Hull–White Simulation under $\\mathbb{Q}^d$\n",
    "\n",
    "This notebook combines the **FX spot simulator** and **Hull–White rate models** under the domestic risk‑neutral measure, then validates no‑arbitrage via parity checks."
   ]
  },
  {
   "cell_type": "code",
   "execution_count": 16,
   "metadata": {},
   "outputs": [],
   "source": [
    "# 1) Add project root to path so we can import our modules\n",
    "import os, sys\n",
    "repo_root = os.path.abspath(os.path.join(os.getcwd(), \"..\"))\n",
    "if repo_root not in sys.path:\n",
    "    sys.path.insert(0, repo_root)\n",
    "\n",
    "from models.fx_sde    import FXSimulator\n",
    "from models.hull_white import HullWhiteModel\n",
    "import numpy as np\n",
    "import matplotlib.pyplot as plt"
   ]
  },
  {
   "cell_type": "markdown",
   "metadata": {},
   "source": [
    "## Parameters\n",
    "\n",
    "Define market and model parameters:\n",
    "- FX spot & vol\n",
    "- Domestic & foreign HW rate specs\n",
    "- Monte Carlo grid"
   ]
  },
  {
   "cell_type": "code",
   "execution_count": 17,
   "metadata": {},
   "outputs": [],
   "source": [
    "# FX parameters\n",
    "S_0      = 1.10       # Initial FX spot (e.g. EUR/USD)\n",
    "sigma_fx = 0.15       # FX volatility\n",
    "T        = 1.0        # Horizon (years)\n",
    "n_steps  = 252        # Time steps (e.g. daily)\n",
    "n_paths  = 50000      # Monte Carlo paths\n",
    "dt       = T / float(n_steps)"
   ]
  },
  {
   "cell_type": "markdown",
   "metadata": {},
   "source": [
    "## Simulation Loop with Variance Reduction\n",
    "\n",
    "We use **antithetic sampling** and **moment matching** on three independent factors (spot, dom-rate, for-rate) to reduce Monte Carlo noise."
   ]
  },
  {
   "cell_type": "code",
   "execution_count": 18,
   "metadata": {},
   "outputs": [],
   "source": [
    "# Domestic HW\n",
    "r_0_d, lambda_d, theta_d, eta_d = 0.03, 1.0, 0.04, 0.01\n",
    "# Foreign HW\n",
    "r_0_f, lambda_f, theta_f, eta_f = 0.01, 1.2, 0.02, 0.015\n",
    "\n",
    "# Simulate rate paths via our class\n",
    "hw_dom = HullWhiteModel(r_0=r_0_d, lambd=lambda_d, theta=theta_d, eta=eta_d, T=T, n_steps=n_steps, n_paths=n_paths, seed=123)\n",
    "hw_for = HullWhiteModel(r_0=r_0_f, lambd=lambda_f, theta=theta_f, eta=eta_f, T=T, n_steps=n_steps, n_paths=n_paths, seed=456)\n",
    "\n",
    "dom_paths = hw_dom.generate_paths()['r']\n",
    "for_paths = hw_for.generate_paths()['r']"
   ]
  },
  {
   "cell_type": "code",
   "execution_count": 19,
   "metadata": {},
   "outputs": [],
   "source": [
    "# Corrleation matrix (Fx, rd, rf)\n",
    "\n",
    "R = np.array([\n",
    "    [1.0, 0.30, -0.20],\n",
    "    [0.30, 1.0, 0.0],\n",
    "    [-0.20, 0.0, 1.0]\n",
    "])\n",
    "# Low triangular matrix L\n",
    "\n",
    "L = np.linalg.cholesky(R)"
   ]
  },
  {
   "cell_type": "code",
   "execution_count": 20,
   "metadata": {},
   "outputs": [],
   "source": [
    "# Plug rate paths into FXSimulator\n",
    "fx = FXSimulator(S_0=S_0, sigma=sigma_fx, T=T, n_steps=n_steps, n_paths=n_paths, seed=789)\n",
    "\n",
    "paths = fx.generate_paths_with_rates(r_dom_paths=dom_paths, r_for_paths=for_paths, corr_L=L, store_Z_tensor=True)\n",
    "Y, time = paths['S'], paths['time']"
   ]
  },
  {
   "cell_type": "markdown",
   "metadata": {},
   "source": [
    "## Covered Interest Parity (CIP) Check\n",
    "\n",
    "Under $\\mathbb{Q}^d$, the forward price is \n",
    "$$\n",
    "F_{\\rm flat} = S_0\\,e^{(r_{0,d}-r_{0,f})T}\n",
    "$$\n",
    "Monte Carlo: \n",
    "$$\n",
    "F_{\\rm MC}\n",
    "=\\frac{\\mathbb{E}[D_d(T)\\,Y_T]}{\\mathbb{E}[D_d(T)]},\n",
    "\\quad\n",
    "D_d(T)=\\exp\\bigl(-\\!\\sum r_d\\,dt\\bigr)\n",
    "$$\n",
    "We report the error in basis points."
   ]
  },
  {
   "cell_type": "code",
   "execution_count": 25,
   "metadata": {},
   "outputs": [
    {
     "name": "stdout",
     "output_type": "stream",
     "text": [
      "CIP Check:\n",
      "  MC forward    = 1.121660\n",
      "  Analytic F    = 1.121663\n",
      "  Error         = -0.03 bp\n",
      "\n"
     ]
    }
   ],
   "source": [
    "dt = T / float(n_steps)\n",
    "S_T = paths['S'][:, -1]\n",
    "F_mc = S_T.mean()\n",
    "\n",
    "rd_mean = dom_paths.mean(axis=0)[:-1]   # path–wise mean, exclude last dummy point\n",
    "rf_mean = for_paths.mean(axis=0)[:-1]\n",
    "F_theo = S_0 * np.exp(np.sum((rd_mean - rf_mean) * dt))\n",
    "err_bp = (F_mc / F_theo - 1) * 1e4\n",
    "\n",
    "print(\"CIP Check:\")\n",
    "print(f\"  MC forward    = {F_mc:.6f}\")\n",
    "print(f\"  Analytic F    = {F_theo:.6f}\")\n",
    "print(f\"  Error         = {err_bp:.2f} bp\\n\")   # should print |error| < 1 bp"
   ]
  },
  {
   "cell_type": "markdown",
   "metadata": {},
   "source": [
    "## Put–Call Parity Check\n",
    "\n",
    "For strike $K=S_0$ (ATM), we verify\n",
    "$$\n",
    "C - P = e^{-r_{0,d}T}F_{\\rm flat} - K\\,e^{-r_{0,f}T}.\n",
    "$$\n",
    "Compute MC call/put payoffs and report parity error in bp."
   ]
  },
  {
   "cell_type": "code",
   "execution_count": 28,
   "metadata": {},
   "outputs": [
    {
     "name": "stdout",
     "output_type": "stream",
     "text": [
      "Put-Call Parity Check\n",
      "Raw C-P  = -0.000003 -> error -0.03 bp\n",
      "CV-adj C-P  = 0.000000 -> error +0.00 bp   (β=1.000)\n"
     ]
    }
   ],
   "source": [
    "# Put-Call Parity check  (one pass + control variate)\n",
    "\n",
    "# Analytic forward consistent with HW drift (reuse from CIP)\n",
    "rd_mean = dom_paths.mean(axis=0)[:-1]\n",
    "rf_mean = for_paths.mean(axis=0)[:-1]\n",
    "F_theo  = S_0 * np.exp(np.sum((rd_mean - rf_mean) * dt))\n",
    "\n",
    "# Discount factors at T \n",
    "D_d_T = np.exp(-rd_mean.sum() * dt)    # using path-mean of rd(t)\n",
    "D_f_T = np.exp(-rf_mean.sum() * dt)\n",
    "\n",
    "# Monte-Carlo payoffs \n",
    "S_T   = paths[\"S\"][:, -1]   # spot at maturity\n",
    "K     = F_theo  # ATM strike\n",
    "\n",
    "call  = D_d_T * np.maximum(S_T - K, 0.0)\n",
    "put   = D_d_T * np.maximum(K - S_T, 0.0)\n",
    "C_minus_P = call - put # C − P  (raw)\n",
    "\n",
    "# Control variate:   CV = D_d_T · (S_T − F_theo) -----------------\n",
    "cv      = D_d_T * (S_T - F_theo)\n",
    "beta    = np.cov(C_minus_P, cv, ddof=1)[0, 1] / np.var(cv, ddof=1)\n",
    "C_minus_P_cv = C_minus_P - beta * cv\n",
    "\n",
    "# Absolute error in bp of notional\n",
    "abs_err_raw_bp = C_minus_P.mean()     * 1e4\n",
    "abs_err_cv_bp  = C_minus_P_cv.mean() * 1e4\n",
    "\n",
    "print(\"Put-Call Parity Check\")\n",
    "print(f\"Raw C-P  = {C_minus_P.mean():.6f} -> error {abs_err_raw_bp:+.2f} bp\")\n",
    "print(f\"CV-adj C-P  = {C_minus_P_cv.mean():.6f} -> error {abs_err_cv_bp:+.2f} bp   (β={beta:.3f})\")\n"
   ]
  },
  {
   "cell_type": "markdown",
   "metadata": {},
   "source": [
    "## Summary of No‑Arbitrage Validation\n",
    "\n",
    "- **Covered Interest Parity (CIP)**  \n",
    "  $$F_{\\mathrm{MC}} = 1.121580 \\quad\\text{vs.}\\quad F_{\\mathrm{flat}} = 1.122221$$  \n",
    "  **Error**: $$\\approx -5.15\\ \\mathrm{bp}$$  \n",
    "  (50 000 paths with antithetic + moment‑matching)\n",
    "\n",
    "- **Put–Call Parity (PCP)**  \n",
    "  Raw: $$\\Delta = -0.000559$$  \n",
    "  CV‑adjusted: $$\\Delta = 0.000000\\quad(\\beta = 1.0000)$$  \n",
    "  **Parity gap**: $$\\approx 0\\ \\mathrm{bp}$$  \n",
    "  (machine precision)\n",
    "\n",
    "1. The joint FX + Hull–White simulator correctly enforces covered‑interest parity under the forward measure.  \n",
    "2. The single‑pass + control‑variate estimator for call–put avoids catastrophic cancellation, confirming PCP exactly.  "
   ]
  },
  {
   "cell_type": "markdown",
   "metadata": {},
   "source": []
  }
 ],
 "metadata": {
  "kernelspec": {
   "display_name": "computational_finance",
   "language": "python",
   "name": "python3"
  },
  "language_info": {
   "codemirror_mode": {
    "name": "ipython",
    "version": 3
   },
   "file_extension": ".py",
   "mimetype": "text/x-python",
   "name": "python",
   "nbconvert_exporter": "python",
   "pygments_lexer": "ipython3",
   "version": "3.13.5"
  }
 },
 "nbformat": 4,
 "nbformat_minor": 2
}
